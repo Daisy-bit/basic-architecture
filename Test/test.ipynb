{
 "cells": [
  {
   "cell_type": "code",
   "execution_count": 20,
   "source": [
    "import torch"
   ],
   "outputs": [],
   "metadata": {}
  },
  {
   "cell_type": "code",
   "execution_count": 21,
   "source": [
    "x = torch.Tensor([-1,2,3,4])\r\n",
    "z = torch.unsqueeze(x, 0)\r\n",
    "z"
   ],
   "outputs": [
    {
     "output_type": "execute_result",
     "data": {
      "text/plain": [
       "tensor([[-1.,  2.,  3.,  4.]])"
      ]
     },
     "metadata": {},
     "execution_count": 21
    }
   ],
   "metadata": {}
  },
  {
   "cell_type": "code",
   "execution_count": 23,
   "source": [
    "z.T"
   ],
   "outputs": [
    {
     "output_type": "execute_result",
     "data": {
      "text/plain": [
       "tensor([[-1.],\n",
       "        [ 2.],\n",
       "        [ 3.],\n",
       "        [ 4.]])"
      ]
     },
     "metadata": {},
     "execution_count": 23
    }
   ],
   "metadata": {}
  },
  {
   "cell_type": "code",
   "execution_count": 24,
   "source": [
    "z"
   ],
   "outputs": [
    {
     "output_type": "execute_result",
     "data": {
      "text/plain": [
       "tensor([[-1.,  2.,  3.,  4.]])"
      ]
     },
     "metadata": {},
     "execution_count": 24
    }
   ],
   "metadata": {}
  },
  {
   "cell_type": "markdown",
   "source": [
    "可以看出返回张量与输入张量并没有共享内存"
   ],
   "metadata": {}
  },
  {
   "cell_type": "code",
   "execution_count": 33,
   "source": [
    "torch.manual_seed(1)\r\n",
    "torch.initial_seed()\r\n",
    "torch.get_rng_state()\r\n",
    "# torch.set_rng_state(torch.Tensor([1, 2, 3]).byte())"
   ],
   "outputs": [
    {
     "output_type": "execute_result",
     "data": {
      "text/plain": [
       "tensor([1, 0, 0,  ..., 0, 0, 0], dtype=torch.uint8)"
      ]
     },
     "metadata": {},
     "execution_count": 33
    }
   ],
   "metadata": {}
  }
 ],
 "metadata": {
  "orig_nbformat": 4,
  "language_info": {
   "name": "python",
   "version": "3.8.10",
   "mimetype": "text/x-python",
   "codemirror_mode": {
    "name": "ipython",
    "version": 3
   },
   "pygments_lexer": "ipython3",
   "nbconvert_exporter": "python",
   "file_extension": ".py"
  },
  "kernelspec": {
   "name": "python3",
   "display_name": "Python 3.8.10  ('pytorch1.7-single': conda)"
  },
  "interpreter": {
   "hash": "f8bed0e70f394ade522035bbd2531b477183cca7f666c12fb5eda5719630b892"
  }
 },
 "nbformat": 4,
 "nbformat_minor": 2
}